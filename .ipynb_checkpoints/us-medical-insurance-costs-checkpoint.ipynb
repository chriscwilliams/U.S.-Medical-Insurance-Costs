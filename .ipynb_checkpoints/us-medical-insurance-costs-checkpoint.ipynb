{
 "cells": [
  {
   "cell_type": "markdown",
   "metadata": {},
   "source": [
    "# U.S. Medical Insurance Costs"
   ]
  },
  {
   "cell_type": "code",
   "execution_count": 21,
   "metadata": {},
   "outputs": [],
   "source": [
    "# Import CSV libray\n",
    "import csv"
   ]
  },
  {
   "cell_type": "code",
   "execution_count": 22,
   "metadata": {},
   "outputs": [],
   "source": [
    "# List to hold similar values\n",
    "# Data stored into these list, extracted from the CSV file will be stored as a string representation of the info\n",
    "ages = []\n",
    "sex = []\n",
    "bmi = []\n",
    "num_children = []\n",
    "smoker = []\n",
    "region = []\n",
    "costs = []"
   ]
  },
  {
   "cell_type": "code",
   "execution_count": 23,
   "metadata": {},
   "outputs": [],
   "source": [
    "# Helper function to extract data from csv file\n",
    "def extract_data(lst, csv_file, column_name):\n",
    "    # Open CSV file\n",
    "    with open(csv_file) as csv_data:\n",
    "        # Create a dictionary from CSV data\n",
    "        csv_dict = csv.DictReader(csv_data)\n",
    "        # Appened CSV data into relevant list\n",
    "        for row in csv_dict:\n",
    "            lst.append(row[column_name])\n",
    "    \n",
    "    return None\n",
    "            "
   ]
  },
  {
   "cell_type": "code",
   "execution_count": 24,
   "metadata": {},
   "outputs": [],
   "source": [
    "extract_data(ages, 'insurance.csv', 'age')\n",
    "extract_data(sex, 'insurance.csv', 'sex')\n",
    "extract_data(bmi, 'insurance.csv', 'bmi')\n",
    "extract_data(num_children, 'insurance.csv', 'children')\n",
    "extract_data(smoker, 'insurance.csv', 'smoker')\n",
    "extract_data(region, 'insurance.csv', 'region')\n",
    "extract_data(costs, 'insurance.csv', 'charges')"
   ]
  },
  {
   "cell_type": "code",
   "execution_count": 25,
   "metadata": {},
   "outputs": [],
   "source": [
    "# Creation of a class to hold all patient data and allow for easier manipulation \n",
    "class PatientInfo:\n",
    "    def __init__(self, age, sex, bmi, num_children, smoker, region, costs):\n",
    "        self.age = age\n",
    "        self.sex = sex\n",
    "        self.bmi = bmi\n",
    "        self.num_children = num_children\n",
    "        self.smoker = smoker\n",
    "        self.region = region\n",
    "        self.costs = costs\n",
    "        \n",
    "    # This method will determine the avg age of the patients    \n",
    "    def analyze_ages(self):\n",
    "        total = 0\n",
    "        for age in self.age:\n",
    "            total += int(age)\n",
    "        # Floor division is used here to determine the average age rounding down to the nearest integer\n",
    "        avg_age = total // len(self.age)\n",
    "        \n",
    "        return \"The average age of a patient is: {0} years old.\".format(avg_age)\n",
    "    \n",
    "    # This method will determine the number of males and number of females in the dataset\n",
    "    def analyze_sex(self):\n",
    "        # Variables to hold the count for males and females\n",
    "        males = 0\n",
    "        females = 0\n",
    "        # Loop thru the list of sexes and update the count variables\n",
    "        for sex in self.sex:\n",
    "            if sex == \"male\":\n",
    "                males += 1\n",
    "            if sex == \"female\":\n",
    "                females += 1\n",
    "        \n",
    "        return \"The number of male patients in the dataset is : {0} and the number of female patients in the dataset is: {1}.\".format(males, females)\n",
    "    \n",
    "    # This method will determine the unique locations of the patients in the dataset\n",
    "    # This method will also determine how many patients live in each unique location\n",
    "    def analyze_locations(self):\n",
    "        # Variable to hold the unique locations\n",
    "        locations = []\n",
    "        location_dictionary = {}\n",
    "        # Loop thru the location dataset and determine the unique locations\n",
    "        for location in self.region:\n",
    "            if location not in locations:\n",
    "                locations.append(location)\n",
    "                location_dictionary[location] = 0\n",
    "        # Loop thru the locations list and count the number of occurences of each location\n",
    "        # Then add the number of occurences to the dictionary\n",
    "        for location in self.region:\n",
    "            location_dictionary[location] = self.region.count(location)\n",
    "            \n",
    "        # A string representation of the unique locations and patients in each locations\n",
    "        for region, location in location_dictionary.items():\n",
    "            print(\"The number of patients in the {0} region is {1}.\".format(region, location))\n",
    "        \n",
    "        # Returns the location_dictionary with the number of patients in the unique location\n",
    "        # return location_dictionary\n",
    "    \n",
    "    # This method will determine the average yearly cost of the patients\n",
    "    def average_charges(self):\n",
    "        total = 0\n",
    "        for charge in self.costs:\n",
    "            total += float(charge)\n",
    "        avg_charge = round((total / len(self.costs)), 2)\n",
    "        \n",
    "        return \"The average yearly charge per patient is: ${0} dollars.\".format(avg_charge)\n",
    "    \n",
    "    # This method will return a dictionary object containing each unique patient info as a key-value pair\n",
    "    # Each key will be a unique patient info and each value will be a list of the info\n",
    "    def create_dictionary(self):\n",
    "        self.patient_dictionary = {}\n",
    "        self.patient_dictionary['Age'] = [int(age) for age in self.age]\n",
    "        self.patient_dictionary['Sex'] = self.sex\n",
    "        self.patient_dictionary['BMI'] = [float(bmi) for bmi in self.bmi]\n",
    "        self.patient_dictionary['Number of Children'] = [int(child) for child in self.num_children]\n",
    "        self.patient_dictionary['Smoker'] = self.smoker\n",
    "        self.patient_dictionary['Region'] = self.region\n",
    "        self.patient_dictionary['Yearly Cost'] = [round(float(cost),2) for cost in self.costs]\n",
    "        \n",
    "        return None"
   ]
  },
  {
   "cell_type": "code",
   "execution_count": 26,
   "metadata": {},
   "outputs": [],
   "source": [
    "# Instance of PatientInfo class with dataset loaded into it\n",
    "insurance_dataset = PatientInfo(ages, sex, bmi, num_children, smoker, region, costs)"
   ]
  },
  {
   "cell_type": "code",
   "execution_count": 27,
   "metadata": {},
   "outputs": [
    {
     "data": {
      "text/plain": [
       "'The average age of a patient is: 39 years old.'"
      ]
     },
     "execution_count": 27,
     "metadata": {},
     "output_type": "execute_result"
    }
   ],
   "source": [
    "# Test of Analyze Age Method\n",
    "insurance_dataset.analyze_ages()"
   ]
  },
  {
   "cell_type": "code",
   "execution_count": 28,
   "metadata": {},
   "outputs": [
    {
     "data": {
      "text/plain": [
       "'The number of male patients in the dataset is : 676 and the number of female patients in the dataset is: 662.'"
      ]
     },
     "execution_count": 28,
     "metadata": {},
     "output_type": "execute_result"
    }
   ],
   "source": [
    "# Test of Analyze Sex Method\n",
    "insurance_dataset.analyze_sex()"
   ]
  },
  {
   "cell_type": "code",
   "execution_count": 29,
   "metadata": {},
   "outputs": [
    {
     "name": "stdout",
     "output_type": "stream",
     "text": [
      "The number of patients in the southwest region is 325.\n",
      "The number of patients in the southeast region is 364.\n",
      "The number of patients in the northwest region is 325.\n",
      "The number of patients in the northeast region is 324.\n"
     ]
    }
   ],
   "source": [
    "# Test of Analyze Location Method\n",
    "insurance_dataset.analyze_locations()"
   ]
  },
  {
   "cell_type": "code",
   "execution_count": 30,
   "metadata": {},
   "outputs": [
    {
     "data": {
      "text/plain": [
       "'The average yearly charge per patient is: $13270.42 dollars.'"
      ]
     },
     "execution_count": 30,
     "metadata": {},
     "output_type": "execute_result"
    }
   ],
   "source": [
    "# Test of Average Charge Method\n",
    "insurance_dataset.average_charges()"
   ]
  },
  {
   "cell_type": "code",
   "execution_count": 31,
   "metadata": {},
   "outputs": [],
   "source": [
    "# Test of Create Dictionary Method\n",
    "insurance_dataset.create_dictionary()\n"
   ]
  },
  {
   "cell_type": "code",
   "execution_count": 32,
   "metadata": {},
   "outputs": [
    {
     "name": "stdout",
     "output_type": "stream",
     "text": [
      "The average cost for a smoker is: $32050.23 dollars.\n",
      "The average cost for a non-smoker is: $8434.27 dollars.\n",
      "The difference in cost between a smoker and a non-smoker is: $23615.96 dollars.\n"
     ]
    }
   ],
   "source": [
    "# This cell will be used to calculate the cost difference between a smoker and a non smoker in the data set\n",
    "# Extract data into variables\n",
    "smoker_data = insurance_dataset.patient_dictionary['Smoker']\n",
    "costs_data = insurance_dataset.patient_dictionary['Yearly Cost']\n",
    "\n",
    "# Combine data into a list of tuples \n",
    "smoker_to_costs = list(zip(smoker_data, costs_data))\n",
    "\n",
    "# List to hold data\n",
    "smoke_yes = []\n",
    "smoke_no = []\n",
    "\n",
    "for data in smoker_to_costs:\n",
    "    if data[0] == 'yes':\n",
    "        smoke_yes.append(data)\n",
    "    if data[0] == 'no':\n",
    "        smoke_no.append(data)\n",
    "# This function will only be used to extract the average cost from the list       \n",
    "def average_cost(lst):\n",
    "    total = 0\n",
    "    for value in lst:\n",
    "        # Because we're accessing tuples\n",
    "        total += value[1]\n",
    "    return round((total / len(lst)),2)\n",
    "\n",
    "smoker_avg_cost = average_cost(smoke_yes)\n",
    "non_smoker_avg_cost = average_cost(smoke_no)\n",
    "difference_in_cost = smoker_avg_cost - non_smoker_avg_cost\n",
    "\n",
    "print(\"The average cost for a smoker is: ${0} dollars.\".format(smoker_avg_cost))\n",
    "print(\"The average cost for a non-smoker is: ${0} dollars.\".format(non_smoker_avg_cost))\n",
    "print(\"The difference in cost between a smoker and a non-smoker is: ${0} dollars.\".format(difference_in_cost))"
   ]
  },
  {
   "cell_type": "code",
   "execution_count": 33,
   "metadata": {},
   "outputs": [
    {
     "name": "stdout",
     "output_type": "stream",
     "text": [
      "The average age of a patient with at least one child is: 40 years old and the average cost for a patient with children is: $13950 dollars.\n"
     ]
    }
   ],
   "source": [
    "# This cell will be used to determine the average age of a patient with at least one child as well as the cost of insurance\n",
    "\n",
    "children_data = insurance_dataset.patient_dictionary['Number of Children']\n",
    "age_data = insurance_dataset.patient_dictionary['Age']\n",
    "\n",
    "age_children_cost = list(zip(age_data,children_data,costs_data))\n",
    "\n",
    "has_kids = []\n",
    "for data in age_children_cost:\n",
    "    # The tuple stores the number of children in the 1st index\n",
    "    if data[1] > 0:\n",
    "        has_kids.append(data)\n",
    "        \n",
    "total_age_with_kids = 0\n",
    "total_cost_with_kids = 0\n",
    "for data in has_kids:\n",
    "    total_cost_with_kids += data[2]\n",
    "    total_age_with_kids += data[0]\n",
    "    \n",
    "average_age_with_kids = round(total_age_with_kids / len(has_kids))\n",
    "average_cost_with_kids = round(total_cost_with_kids / len(has_kids))\n",
    "    \n",
    "print(\"The average age of a patient with at least one child is: {0} years old and the average cost for a patient with children is: ${1} dollars.\".format(average_age_with_kids, average_cost_with_kids))"
   ]
  }
 ],
 "metadata": {
  "kernelspec": {
   "display_name": "Python 3 (ipykernel)",
   "language": "python",
   "name": "python3"
  },
  "language_info": {
   "codemirror_mode": {
    "name": "ipython",
    "version": 3
   },
   "file_extension": ".py",
   "mimetype": "text/x-python",
   "name": "python",
   "nbconvert_exporter": "python",
   "pygments_lexer": "ipython3",
   "version": "3.9.5"
  }
 },
 "nbformat": 4,
 "nbformat_minor": 4
}
